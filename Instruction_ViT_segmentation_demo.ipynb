{
 "cells": [
  {
   "cell_type": "code",
   "execution_count": 28,
   "metadata": {},
   "outputs": [
    {
     "name": "stdout",
     "output_type": "stream",
     "text": [
      "0.08508483320474625\n",
      "0.04491381347179413\n"
     ]
    }
   ],
   "source": [
    "import monai\n",
    "from monai.metrics import DiceMetric, MeanIoU\n",
    "import torch\n",
    "import numpy as np\n",
    "import instruction_ViT\n",
    "from torch.utils.data import Dataset,DataLoader\n",
    "\n",
    "text_features = np.random.rand(21,512)\n",
    "\n",
    "model = timm.create_model('vit_base_patch16_224_seg',pretrained=True,num_classes=text_features.shape[0])\n",
    "\n",
    "loss_fn=monai.losses.DiceLoss(softmax=True)\n",
    "dice_metric = DiceMetric(include_background=True, reduction=\"mean\", get_not_nans=False)\n",
    "IoU_metric = MeanIoU(include_background=True, reduction=\"mean\", get_not_nans=False)\n",
    "\n",
    "class MyDataset_val(Dataset):\n",
    "    def __init__(self):\n",
    "        self.data=np.random.rand(100,3,224,224)\n",
    "        self.label=np.random.randint(0,2,(100,21,224,224))\n",
    "        \n",
    "    def __len__(self):\n",
    "        return len(self.data)\n",
    "\n",
    "    def __getitem__(self, idx):\n",
    "        image= torch.tensor(self.data[idx],dtype=torch.float)\n",
    "        label = torch.tensor(self.label[idx],dtype=torch.float)\n",
    "        return image,label\n",
    "dataset = MyDataset_val()\n",
    "val_dataloader=DataLoader(dataset,batch_size=32,drop_last=True)\n",
    "\n",
    "def change_output(output):\n",
    "    pred_y = output.cpu()\n",
    "    temp=torch.argmax(pred_y,axis=1)\n",
    "    temp=temp.unsqueeze(1)\n",
    "    pred_y = [temp==i for i in range(pred_y.shape[1])]\n",
    "    pred_y = torch.concat(pred_y,dim=1)\n",
    "    return pred_y.cuda(non_blocking=True)\n",
    "\n",
    "for images,target in val_dataloader:\n",
    "    output=model(images)#input (B,3,224,224) ouput(B,segment Cannel,224,224)\n",
    "    loss = loss_fn(output,target)\n",
    "    ypred=change_output(output)\n",
    "    target = target.cuda()\n",
    "    dice_metric(y_pred=ypred, y=target)\n",
    "    IoU_metric(y_pred=ypred, y=target)\n",
    "metric = dice_metric.aggregate().item()\n",
    "iou = IoU_metric.aggregate().item()\n",
    "dice_metric.reset()\n",
    "IoU_metric.reset()\n",
    "print(metric)\n",
    "print(iou)"
   ]
  }
 ],
 "metadata": {
  "language_info": {
   "name": "python"
  },
  "orig_nbformat": 4
 },
 "nbformat": 4,
 "nbformat_minor": 2
}
